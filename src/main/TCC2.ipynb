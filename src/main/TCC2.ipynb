{
  "cells": [
    {
      "cell_type": "markdown",
      "source": [
        "Projeto de Ciências de Dados seguindo a metodolodia do KDD (Knowledge Discovery in Databases) para análise dos dados de rodas de Terapia Comunitária nos convênios com Ministério da Saúde nos anos de 2008, 2009 e 2011.\n",
        "\n",
        "([KDD e Data Mining: mais do que apenas conceitos](https://itforum.com.br/colunas/kdd-e-data-mining-mais-do-que-apenas-conceitos))"
      ],
      "metadata": {
        "id": "E3IxE_LFnoI_"
      }
    },
    {
      "cell_type": "markdown",
      "source": [
        "# Etapa 1: Seleção dos Dados"
      ],
      "metadata": {
        "id": "83u4KyuJMSgY"
      }
    },
    {
      "cell_type": "markdown",
      "source": [
        "## Lendo o dataset com Pandas"
      ],
      "metadata": {
        "id": "BRc-ApCXoqRm"
      }
    },
    {
      "cell_type": "markdown",
      "source": [
        "O dataset já está consolidado os dados dos convênios:\n",
        "* **2008**: Convênio: 2397/2008 Parceria: Ministério da Saúde / FCPC – Fundação\n",
        "Cearense de Pesquisa e Cultura / MISMEC-CE – Movimento Integrado de Saúde\n",
        "Mental Comunitária\n",
        "* **2009**: Convênio: 3363/2009 Parceria: Ministério da Saúde / FCPC – Fundação\n",
        "Cearense de Pesquisa e Cultura / MISMEC-CE – Movimento Integrado de Saúde\n",
        "Mental Comunitária\n",
        "* **2011**: Convênio “Capacitação em Terapia Comunitária Integrativa com ênfase em\n",
        "contextos de calamidades públicas” (nº 26203/11-74 - TC 101 FNS / UFC). Parceria: Ministério da Saúde / UFC - Universidade Federal do Ceará / FCPC –\n",
        "Fundação Cearense de Pesquisa e Cultura / MISMEC-CE – Movimento Integrado\n",
        "de Saúde Mental Comunitária.\n",
        "\n",
        "Nessa etapa, os dados já foram consolidados na planilha, filtrando os registros com possível duplicidade, ou seja, registros de uma mesma terapia que podem ter sido submetidos por terapeutas de uma mesma equipe."
      ],
      "metadata": {
        "id": "x5xyc1EqoRHX"
      }
    },
    {
      "cell_type": "code",
      "execution_count": 74,
      "metadata": {
        "id": "-znCYam_9b3F"
      },
      "outputs": [],
      "source": [
        "import pandas as pd\n",
        "import seaborn as sns\n",
        "import matplotlib.pyplot as plt"
      ]
    },
    {
      "cell_type": "code",
      "execution_count": 75,
      "metadata": {
        "id": "xXhGUaldgJPZ"
      },
      "outputs": [],
      "source": [
        "# Baixando o dataset do GitHub\n",
        "url= \"https://github.com/rafaeld3castro/tcc2/raw/main/src/main/resources/dataset.xlsx\"\n",
        "\n",
        "# Lendo o datase e transformando em um dataframe do pandas\n",
        "dados = pd.read_excel(url)"
      ]
    },
    {
      "cell_type": "markdown",
      "source": [
        "## Padronizando o nome das colunas do dataset para facilitar a visualização dos dados"
      ],
      "metadata": {
        "id": "m6oeblB6poBB"
      }
    },
    {
      "cell_type": "markdown",
      "metadata": {
        "id": "8mUQPyDFwqJN"
      },
      "source": [
        "O nome dos rótulos originais estão sendo simplicados para facilitar a visuação do dataset, bem como simplicar as leitura das colunas no código. Segue abaixo a legenda para cada rótulo reescrito do dataset:\n",
        "\n",
        "**Temas propostos (dado booleano - 0 ou 1):**\n",
        "\n",
        "*   `t_conflitos_fam` = Conflitos Familiares\n",
        "*   `t_violencia` = Violência\n",
        "*   `t_conflitos` = Conflitos\n",
        "*   `t_problemas_esc` = Problemas Escolares\n",
        "*   `t_drogas` = Drogas\n",
        "*   `t_alcoolismo` = Alcoolismo\n",
        "*   `t_tabaco` = Tabaco\n",
        "*   `t_depressao` = Depressão\n",
        "*   `t_trabalho` = Trabalho\n",
        "*   `t_aband_disc_rej` = Abandono, Discriminação, Rejeição\n",
        "*   `t_problemas_men` = Problemas Mentais e Neurológicos\n",
        "*   `t_prostituicao` = Prostituição\n",
        "\n",
        "**Estratégias de enfrentamento (dado booleano - 0 ou 1):**\n",
        "\n",
        "*   `e_fort_empod` = Fortalecimento / empoderamento pessoal\n",
        "*   `e_ajuda_rel_esp` = Buscar ajuda religiosa ou espiritual\n",
        "*   `e_cuid_rel_fam` = Cuidar e se relacionar melhor com a família\n",
        "*   `e_busca_ajuda_pro` = Buscar ajuda profissional e ações de cidadania (Serviços Públicos)\n",
        "*   `e_auto_cuidado` = Auto-cuidado - busca de recursos da cultura\n",
        "*   `e_participar_tc` = Participar de terapia comunitária\n",
        "*   `e_busca_redes_solid` = Buscar redes solidárias\n",
        "\n"
      ]
    },
    {
      "cell_type": "code",
      "execution_count": 76,
      "metadata": {
        "colab": {
          "base_uri": "https://localhost:8080/"
        },
        "id": "wllvI51sksCa",
        "outputId": "00a926a3-f683-45a4-d26f-ec1b0317babe"
      },
      "outputs": [
        {
          "output_type": "stream",
          "name": "stdout",
          "text": [
            "<class 'pandas.core.frame.DataFrame'>\n",
            "RangeIndex: 13354 entries, 0 to 13353\n",
            "Data columns (total 38 columns):\n",
            " #   Column               Non-Null Count  Dtype \n",
            "---  ------               --------------  ----- \n",
            " 0   convenio             13354 non-null  object\n",
            " 1   UF                   13344 non-null  object\n",
            " 2   data                 13298 non-null  object\n",
            " 3   hora                 13278 non-null  object\n",
            " 4   f_criancas           13354 non-null  int64 \n",
            " 5   f_adolescentes       13354 non-null  int64 \n",
            " 6   f_adultos            13354 non-null  int64 \n",
            " 7   f_idosos             13354 non-null  int64 \n",
            " 8   m_criancas           13354 non-null  int64 \n",
            " 9   m_adolescentes       13354 non-null  int64 \n",
            " 10  m_adultos            13354 non-null  int64 \n",
            " 11  m_idosos             13354 non-null  int64 \n",
            " 12  t_estresse           13354 non-null  int64 \n",
            " 13  t_conflitos_fam      13354 non-null  int64 \n",
            " 14  t_violencia          13354 non-null  int64 \n",
            " 15  t_conflitos          13354 non-null  int64 \n",
            " 16  t_problemas_esc      13354 non-null  int64 \n",
            " 17  t_drogas             13354 non-null  int64 \n",
            " 18  t_alcoolismo         13354 non-null  int64 \n",
            " 19  t_tabaco             13354 non-null  int64 \n",
            " 20  t_depressao          13354 non-null  int64 \n",
            " 21  t_trabalho           13354 non-null  int64 \n",
            " 22  t_aband_disc_rej     13354 non-null  int64 \n",
            " 23  t_problemas_men      13354 non-null  int64 \n",
            " 24  t_prostituicao       13354 non-null  int64 \n",
            " 25  t_outro              13354 non-null  object\n",
            " 26  t_outro_qual         2757 non-null   object\n",
            " 27  t_escolhido          13185 non-null  object\n",
            " 28  e_fort_empod         13354 non-null  object\n",
            " 29  e_ajuda_rel_esp      13354 non-null  int64 \n",
            " 30  e_cuid_rel_fam       13354 non-null  int64 \n",
            " 31  e_busca_ajuda_pro    13354 non-null  int64 \n",
            " 32  e_auto_cuidado       13354 non-null  int64 \n",
            " 33  e_participar_tc      13354 non-null  int64 \n",
            " 34  e_busca_redes_solid  13354 non-null  int64 \n",
            " 35  e_outras             13354 non-null  int64 \n",
            " 36  e_outras_qual        588 non-null    object\n",
            " 37  depoimentos          11095 non-null  object\n",
            "dtypes: int64(28), object(10)\n",
            "memory usage: 3.9+ MB\n"
          ]
        }
      ],
      "source": [
        "dados = dados.rename(columns={\n",
        "    \"uf\": \"data\",\n",
        "    \"Data\": \"data\",\n",
        "    \"Horário\": \"hora\",\n",
        "    \"Estresse\": \"t_estresse\",\n",
        "    \"Conflitos Familiares\": \"t_conflitos_fam\",\n",
        "    \"Violência\": \"t_violencia\",\n",
        "    \"Conflitos\": \"t_conflitos\",\n",
        "    \"Problemas Escolares\": \"t_problemas_esc\",\n",
        "    \"Drogas \": \"t_drogas\",\n",
        "    \"Alcoolismo\": \"t_alcoolismo\",\n",
        "    \"Tabaco\": \"t_tabaco\",\n",
        "    \"Depressão\": \"t_depressao\",\n",
        "    \"Trabalho\": \"t_trabalho\",\n",
        "    \"Abandono, Discriminação, Rejeição\": \"t_aband_disc_rej\",\n",
        "    \"Problemas Mentais e Neurológicos\": \"t_problemas_men\",\n",
        "    \"Prostituição\": \"t_prostituicao\",\n",
        "    \"Outro:\": \"t_outro\",\n",
        "    \"Qual:\": \"t_outro_qual\",\n",
        "    \"Tema Escolhido:\": \"t_escolhido\",\n",
        "    \"Fortalecimento / empoderamento pessoal\": \"e_fort_empod\",\n",
        "    \"Buscar ajuda religiosa ou espiritual \": \"e_ajuda_rel_esp\",\n",
        "    \"Cuidar e se relacionar melhor com a família \": \"e_cuid_rel_fam\",\n",
        "    \"Buscar ajuda profissional e ações de cidadania (Serviços Públicos) \": \"e_busca_ajuda_pro\",\n",
        "    \"Auto-cuidado - busca de recursos da cultura \": \"e_auto_cuidado\",\n",
        "    \"Participar de terapia comunitária \": \"e_participar_tc\",\n",
        "    \"Buscar redes solidárias\": \"e_busca_redes_solid\",\n",
        "    \"Outras \": \"e_outras\",\n",
        "    \"Qual:.1\": \"e_outras_qual\",\n",
        "    \"Unnamed: 37\": \"depoimentos\"\n",
        "})\n",
        "dados.info()"
      ]
    },
    {
      "cell_type": "markdown",
      "source": [
        "# Etapa 2: Processamento"
      ],
      "metadata": {
        "id": "0D59VbkBqZD-"
      }
    },
    {
      "cell_type": "markdown",
      "source": [
        "## Explorando os dados"
      ],
      "metadata": {
        "id": "T_zI38ewqx7X"
      }
    },
    {
      "cell_type": "code",
      "execution_count": 77,
      "metadata": {
        "colab": {
          "base_uri": "https://localhost:8080/",
          "height": 0
        },
        "id": "EDfOHYcgqpuF",
        "outputId": "f01cd779-140d-47d1-9d08-e895378fb85c"
      },
      "outputs": [
        {
          "output_type": "execute_result",
          "data": {
            "text/plain": [
              "       convenio  UF                 data      hora  f_criancas  \\\n",
              "0  2008_ms_2397  AM           18/11/2008  15:00:00           0   \n",
              "1  2008_ms_2397  AM  2008-12-03 00:00:00  09:00:00           8   \n",
              "2  2008_ms_2397  AM  2008-12-03 00:00:00  16:00:00           8   \n",
              "3  2008_ms_2397  AM  2008-12-02 00:00:00  09:00:00           5   \n",
              "4  2008_ms_2397  AM  2008-12-02 00:00:00  14:00:00           4   \n",
              "\n",
              "   f_adolescentes  f_adultos  f_idosos  m_criancas  m_adolescentes  ...  \\\n",
              "0               0          0        15           0               0  ...   \n",
              "1               6          0         0          10               0  ...   \n",
              "2              12          0         0           0               8  ...   \n",
              "3               8          0         0           2              12  ...   \n",
              "4              11          0         0           8              12  ...   \n",
              "\n",
              "   e_fort_empod  e_ajuda_rel_esp  e_cuid_rel_fam  e_busca_ajuda_pro  \\\n",
              "0             1                1               0                  0   \n",
              "1             0                0               1                  0   \n",
              "2             0                1               1                  1   \n",
              "3             1                0               1                  1   \n",
              "4             0                1               1                  0   \n",
              "\n",
              "   e_auto_cuidado  e_participar_tc  e_busca_redes_solid  e_outras  \\\n",
              "0               0                0                    1         0   \n",
              "1               0                0                    0         0   \n",
              "2               0                0                    0         0   \n",
              "3               0                0                    0         0   \n",
              "4               0                1                    0         0   \n",
              "\n",
              "   e_outras_qual                        depoimentos  \n",
              "0            NaN     CALMA PACIÊNCIA PAZ FELICIDADE  \n",
              "1            NaN                        RESILIÊNCIA  \n",
              "2            NaN                    CONFIANÇA AMOR   \n",
              "3            NaN  COMPREENSÃO PERDÃO COMPANHEIRISMO  \n",
              "4            NaN   SAUDADE AMIZADE ENTENDER O OUTRO  \n",
              "\n",
              "[5 rows x 38 columns]"
            ],
            "text/html": [
              "\n",
              "  <div id=\"df-da771527-bf0d-49ce-a550-be76d68e4bf2\">\n",
              "    <div class=\"colab-df-container\">\n",
              "      <div>\n",
              "<style scoped>\n",
              "    .dataframe tbody tr th:only-of-type {\n",
              "        vertical-align: middle;\n",
              "    }\n",
              "\n",
              "    .dataframe tbody tr th {\n",
              "        vertical-align: top;\n",
              "    }\n",
              "\n",
              "    .dataframe thead th {\n",
              "        text-align: right;\n",
              "    }\n",
              "</style>\n",
              "<table border=\"1\" class=\"dataframe\">\n",
              "  <thead>\n",
              "    <tr style=\"text-align: right;\">\n",
              "      <th></th>\n",
              "      <th>convenio</th>\n",
              "      <th>UF</th>\n",
              "      <th>data</th>\n",
              "      <th>hora</th>\n",
              "      <th>f_criancas</th>\n",
              "      <th>f_adolescentes</th>\n",
              "      <th>f_adultos</th>\n",
              "      <th>f_idosos</th>\n",
              "      <th>m_criancas</th>\n",
              "      <th>m_adolescentes</th>\n",
              "      <th>...</th>\n",
              "      <th>e_fort_empod</th>\n",
              "      <th>e_ajuda_rel_esp</th>\n",
              "      <th>e_cuid_rel_fam</th>\n",
              "      <th>e_busca_ajuda_pro</th>\n",
              "      <th>e_auto_cuidado</th>\n",
              "      <th>e_participar_tc</th>\n",
              "      <th>e_busca_redes_solid</th>\n",
              "      <th>e_outras</th>\n",
              "      <th>e_outras_qual</th>\n",
              "      <th>depoimentos</th>\n",
              "    </tr>\n",
              "  </thead>\n",
              "  <tbody>\n",
              "    <tr>\n",
              "      <th>0</th>\n",
              "      <td>2008_ms_2397</td>\n",
              "      <td>AM</td>\n",
              "      <td>18/11/2008</td>\n",
              "      <td>15:00:00</td>\n",
              "      <td>0</td>\n",
              "      <td>0</td>\n",
              "      <td>0</td>\n",
              "      <td>15</td>\n",
              "      <td>0</td>\n",
              "      <td>0</td>\n",
              "      <td>...</td>\n",
              "      <td>1</td>\n",
              "      <td>1</td>\n",
              "      <td>0</td>\n",
              "      <td>0</td>\n",
              "      <td>0</td>\n",
              "      <td>0</td>\n",
              "      <td>1</td>\n",
              "      <td>0</td>\n",
              "      <td>NaN</td>\n",
              "      <td>CALMA PACIÊNCIA PAZ FELICIDADE</td>\n",
              "    </tr>\n",
              "    <tr>\n",
              "      <th>1</th>\n",
              "      <td>2008_ms_2397</td>\n",
              "      <td>AM</td>\n",
              "      <td>2008-12-03 00:00:00</td>\n",
              "      <td>09:00:00</td>\n",
              "      <td>8</td>\n",
              "      <td>6</td>\n",
              "      <td>0</td>\n",
              "      <td>0</td>\n",
              "      <td>10</td>\n",
              "      <td>0</td>\n",
              "      <td>...</td>\n",
              "      <td>0</td>\n",
              "      <td>0</td>\n",
              "      <td>1</td>\n",
              "      <td>0</td>\n",
              "      <td>0</td>\n",
              "      <td>0</td>\n",
              "      <td>0</td>\n",
              "      <td>0</td>\n",
              "      <td>NaN</td>\n",
              "      <td>RESILIÊNCIA</td>\n",
              "    </tr>\n",
              "    <tr>\n",
              "      <th>2</th>\n",
              "      <td>2008_ms_2397</td>\n",
              "      <td>AM</td>\n",
              "      <td>2008-12-03 00:00:00</td>\n",
              "      <td>16:00:00</td>\n",
              "      <td>8</td>\n",
              "      <td>12</td>\n",
              "      <td>0</td>\n",
              "      <td>0</td>\n",
              "      <td>0</td>\n",
              "      <td>8</td>\n",
              "      <td>...</td>\n",
              "      <td>0</td>\n",
              "      <td>1</td>\n",
              "      <td>1</td>\n",
              "      <td>1</td>\n",
              "      <td>0</td>\n",
              "      <td>0</td>\n",
              "      <td>0</td>\n",
              "      <td>0</td>\n",
              "      <td>NaN</td>\n",
              "      <td>CONFIANÇA AMOR</td>\n",
              "    </tr>\n",
              "    <tr>\n",
              "      <th>3</th>\n",
              "      <td>2008_ms_2397</td>\n",
              "      <td>AM</td>\n",
              "      <td>2008-12-02 00:00:00</td>\n",
              "      <td>09:00:00</td>\n",
              "      <td>5</td>\n",
              "      <td>8</td>\n",
              "      <td>0</td>\n",
              "      <td>0</td>\n",
              "      <td>2</td>\n",
              "      <td>12</td>\n",
              "      <td>...</td>\n",
              "      <td>1</td>\n",
              "      <td>0</td>\n",
              "      <td>1</td>\n",
              "      <td>1</td>\n",
              "      <td>0</td>\n",
              "      <td>0</td>\n",
              "      <td>0</td>\n",
              "      <td>0</td>\n",
              "      <td>NaN</td>\n",
              "      <td>COMPREENSÃO PERDÃO COMPANHEIRISMO</td>\n",
              "    </tr>\n",
              "    <tr>\n",
              "      <th>4</th>\n",
              "      <td>2008_ms_2397</td>\n",
              "      <td>AM</td>\n",
              "      <td>2008-12-02 00:00:00</td>\n",
              "      <td>14:00:00</td>\n",
              "      <td>4</td>\n",
              "      <td>11</td>\n",
              "      <td>0</td>\n",
              "      <td>0</td>\n",
              "      <td>8</td>\n",
              "      <td>12</td>\n",
              "      <td>...</td>\n",
              "      <td>0</td>\n",
              "      <td>1</td>\n",
              "      <td>1</td>\n",
              "      <td>0</td>\n",
              "      <td>0</td>\n",
              "      <td>1</td>\n",
              "      <td>0</td>\n",
              "      <td>0</td>\n",
              "      <td>NaN</td>\n",
              "      <td>SAUDADE AMIZADE ENTENDER O OUTRO</td>\n",
              "    </tr>\n",
              "  </tbody>\n",
              "</table>\n",
              "<p>5 rows × 38 columns</p>\n",
              "</div>\n",
              "      <button class=\"colab-df-convert\" onclick=\"convertToInteractive('df-da771527-bf0d-49ce-a550-be76d68e4bf2')\"\n",
              "              title=\"Convert this dataframe to an interactive table.\"\n",
              "              style=\"display:none;\">\n",
              "        \n",
              "  <svg xmlns=\"http://www.w3.org/2000/svg\" height=\"24px\"viewBox=\"0 0 24 24\"\n",
              "       width=\"24px\">\n",
              "    <path d=\"M0 0h24v24H0V0z\" fill=\"none\"/>\n",
              "    <path d=\"M18.56 5.44l.94 2.06.94-2.06 2.06-.94-2.06-.94-.94-2.06-.94 2.06-2.06.94zm-11 1L8.5 8.5l.94-2.06 2.06-.94-2.06-.94L8.5 2.5l-.94 2.06-2.06.94zm10 10l.94 2.06.94-2.06 2.06-.94-2.06-.94-.94-2.06-.94 2.06-2.06.94z\"/><path d=\"M17.41 7.96l-1.37-1.37c-.4-.4-.92-.59-1.43-.59-.52 0-1.04.2-1.43.59L10.3 9.45l-7.72 7.72c-.78.78-.78 2.05 0 2.83L4 21.41c.39.39.9.59 1.41.59.51 0 1.02-.2 1.41-.59l7.78-7.78 2.81-2.81c.8-.78.8-2.07 0-2.86zM5.41 20L4 18.59l7.72-7.72 1.47 1.35L5.41 20z\"/>\n",
              "  </svg>\n",
              "      </button>\n",
              "      \n",
              "  <style>\n",
              "    .colab-df-container {\n",
              "      display:flex;\n",
              "      flex-wrap:wrap;\n",
              "      gap: 12px;\n",
              "    }\n",
              "\n",
              "    .colab-df-convert {\n",
              "      background-color: #E8F0FE;\n",
              "      border: none;\n",
              "      border-radius: 50%;\n",
              "      cursor: pointer;\n",
              "      display: none;\n",
              "      fill: #1967D2;\n",
              "      height: 32px;\n",
              "      padding: 0 0 0 0;\n",
              "      width: 32px;\n",
              "    }\n",
              "\n",
              "    .colab-df-convert:hover {\n",
              "      background-color: #E2EBFA;\n",
              "      box-shadow: 0px 1px 2px rgba(60, 64, 67, 0.3), 0px 1px 3px 1px rgba(60, 64, 67, 0.15);\n",
              "      fill: #174EA6;\n",
              "    }\n",
              "\n",
              "    [theme=dark] .colab-df-convert {\n",
              "      background-color: #3B4455;\n",
              "      fill: #D2E3FC;\n",
              "    }\n",
              "\n",
              "    [theme=dark] .colab-df-convert:hover {\n",
              "      background-color: #434B5C;\n",
              "      box-shadow: 0px 1px 3px 1px rgba(0, 0, 0, 0.15);\n",
              "      filter: drop-shadow(0px 1px 2px rgba(0, 0, 0, 0.3));\n",
              "      fill: #FFFFFF;\n",
              "    }\n",
              "  </style>\n",
              "\n",
              "      <script>\n",
              "        const buttonEl =\n",
              "          document.querySelector('#df-da771527-bf0d-49ce-a550-be76d68e4bf2 button.colab-df-convert');\n",
              "        buttonEl.style.display =\n",
              "          google.colab.kernel.accessAllowed ? 'block' : 'none';\n",
              "\n",
              "        async function convertToInteractive(key) {\n",
              "          const element = document.querySelector('#df-da771527-bf0d-49ce-a550-be76d68e4bf2');\n",
              "          const dataTable =\n",
              "            await google.colab.kernel.invokeFunction('convertToInteractive',\n",
              "                                                     [key], {});\n",
              "          if (!dataTable) return;\n",
              "\n",
              "          const docLinkHtml = 'Like what you see? Visit the ' +\n",
              "            '<a target=\"_blank\" href=https://colab.research.google.com/notebooks/data_table.ipynb>data table notebook</a>'\n",
              "            + ' to learn more about interactive tables.';\n",
              "          element.innerHTML = '';\n",
              "          dataTable['output_type'] = 'display_data';\n",
              "          await google.colab.output.renderOutput(dataTable, element);\n",
              "          const docLink = document.createElement('div');\n",
              "          docLink.innerHTML = docLinkHtml;\n",
              "          element.appendChild(docLink);\n",
              "        }\n",
              "      </script>\n",
              "    </div>\n",
              "  </div>\n",
              "  "
            ]
          },
          "metadata": {},
          "execution_count": 77
        }
      ],
      "source": [
        "dados.head()"
      ]
    },
    {
      "cell_type": "code",
      "execution_count": 78,
      "metadata": {
        "colab": {
          "base_uri": "https://localhost:8080/",
          "height": 0
        },
        "id": "GQ5yW6wSrYGk",
        "outputId": "9b202787-23da-45fa-9f93-9fde58fc9f10"
      },
      "outputs": [
        {
          "output_type": "execute_result",
          "data": {
            "text/plain": [
              "         f_criancas  f_adolescentes     f_adultos      f_idosos    m_criancas  \\\n",
              "count  13354.000000    13354.000000  13354.000000  13354.000000  13354.000000   \n",
              "mean       0.582822        0.923244      7.450577      2.142579      0.437322   \n",
              "std        1.880917        2.774836      7.052126      4.083442      1.714167   \n",
              "min        0.000000        0.000000      0.000000      0.000000      0.000000   \n",
              "25%        0.000000        0.000000      3.000000      0.000000      0.000000   \n",
              "50%        0.000000        0.000000      6.000000      0.000000      0.000000   \n",
              "75%        0.000000        0.000000     10.000000      3.000000      0.000000   \n",
              "max       44.000000       51.000000    216.000000     52.000000     45.000000   \n",
              "\n",
              "       m_adolescentes     m_adultos      m_idosos    t_estresse  \\\n",
              "count    13354.000000  13354.000000  13354.000000  13354.000000   \n",
              "mean         0.647671      2.007414      0.598098      0.597724   \n",
              "std          2.464536      3.466568      1.673624      0.490375   \n",
              "min          0.000000      0.000000      0.000000      0.000000   \n",
              "25%          0.000000      0.000000      0.000000      0.000000   \n",
              "50%          0.000000      1.000000      0.000000      1.000000   \n",
              "75%          0.000000      3.000000      1.000000      1.000000   \n",
              "max         40.000000     56.000000     35.000000      1.000000   \n",
              "\n",
              "       t_conflitos_fam  ...  t_aband_disc_rej  t_problemas_men  \\\n",
              "count     13354.000000  ...      13354.000000     13354.000000   \n",
              "mean          0.471919  ...          0.181219         0.048001   \n",
              "std           0.499529  ...          0.385214         0.213775   \n",
              "min           0.000000  ...          0.000000         0.000000   \n",
              "25%           0.000000  ...          0.000000         0.000000   \n",
              "50%           0.000000  ...          0.000000         0.000000   \n",
              "75%           1.000000  ...          0.000000         0.000000   \n",
              "max           2.000000  ...          1.000000         1.000000   \n",
              "\n",
              "       t_prostituicao  e_ajuda_rel_esp  e_cuid_rel_fam  e_busca_ajuda_pro  \\\n",
              "count    13354.000000     13354.000000    13354.000000       13354.000000   \n",
              "mean         0.019021         0.503145        0.410364           0.291598   \n",
              "std          0.136602         0.500009        0.491918           0.454515   \n",
              "min          0.000000         0.000000        0.000000           0.000000   \n",
              "25%          0.000000         0.000000        0.000000           0.000000   \n",
              "50%          0.000000         1.000000        0.000000           0.000000   \n",
              "75%          0.000000         1.000000        1.000000           1.000000   \n",
              "max          1.000000         1.000000        1.000000           1.000000   \n",
              "\n",
              "       e_auto_cuidado  e_participar_tc  e_busca_redes_solid      e_outras  \n",
              "count    13354.000000     13354.000000         13354.000000  13354.000000  \n",
              "mean         0.208402         0.379662             0.484199      0.039838  \n",
              "std          0.406181         0.485321             0.499769      0.195586  \n",
              "min          0.000000         0.000000             0.000000      0.000000  \n",
              "25%          0.000000         0.000000             0.000000      0.000000  \n",
              "50%          0.000000         0.000000             0.000000      0.000000  \n",
              "75%          0.000000         1.000000             1.000000      0.000000  \n",
              "max          1.000000         1.000000             1.000000      1.000000  \n",
              "\n",
              "[8 rows x 28 columns]"
            ],
            "text/html": [
              "\n",
              "  <div id=\"df-96980a68-dcdf-40ef-bee3-b083fad2babd\">\n",
              "    <div class=\"colab-df-container\">\n",
              "      <div>\n",
              "<style scoped>\n",
              "    .dataframe tbody tr th:only-of-type {\n",
              "        vertical-align: middle;\n",
              "    }\n",
              "\n",
              "    .dataframe tbody tr th {\n",
              "        vertical-align: top;\n",
              "    }\n",
              "\n",
              "    .dataframe thead th {\n",
              "        text-align: right;\n",
              "    }\n",
              "</style>\n",
              "<table border=\"1\" class=\"dataframe\">\n",
              "  <thead>\n",
              "    <tr style=\"text-align: right;\">\n",
              "      <th></th>\n",
              "      <th>f_criancas</th>\n",
              "      <th>f_adolescentes</th>\n",
              "      <th>f_adultos</th>\n",
              "      <th>f_idosos</th>\n",
              "      <th>m_criancas</th>\n",
              "      <th>m_adolescentes</th>\n",
              "      <th>m_adultos</th>\n",
              "      <th>m_idosos</th>\n",
              "      <th>t_estresse</th>\n",
              "      <th>t_conflitos_fam</th>\n",
              "      <th>...</th>\n",
              "      <th>t_aband_disc_rej</th>\n",
              "      <th>t_problemas_men</th>\n",
              "      <th>t_prostituicao</th>\n",
              "      <th>e_ajuda_rel_esp</th>\n",
              "      <th>e_cuid_rel_fam</th>\n",
              "      <th>e_busca_ajuda_pro</th>\n",
              "      <th>e_auto_cuidado</th>\n",
              "      <th>e_participar_tc</th>\n",
              "      <th>e_busca_redes_solid</th>\n",
              "      <th>e_outras</th>\n",
              "    </tr>\n",
              "  </thead>\n",
              "  <tbody>\n",
              "    <tr>\n",
              "      <th>count</th>\n",
              "      <td>13354.000000</td>\n",
              "      <td>13354.000000</td>\n",
              "      <td>13354.000000</td>\n",
              "      <td>13354.000000</td>\n",
              "      <td>13354.000000</td>\n",
              "      <td>13354.000000</td>\n",
              "      <td>13354.000000</td>\n",
              "      <td>13354.000000</td>\n",
              "      <td>13354.000000</td>\n",
              "      <td>13354.000000</td>\n",
              "      <td>...</td>\n",
              "      <td>13354.000000</td>\n",
              "      <td>13354.000000</td>\n",
              "      <td>13354.000000</td>\n",
              "      <td>13354.000000</td>\n",
              "      <td>13354.000000</td>\n",
              "      <td>13354.000000</td>\n",
              "      <td>13354.000000</td>\n",
              "      <td>13354.000000</td>\n",
              "      <td>13354.000000</td>\n",
              "      <td>13354.000000</td>\n",
              "    </tr>\n",
              "    <tr>\n",
              "      <th>mean</th>\n",
              "      <td>0.582822</td>\n",
              "      <td>0.923244</td>\n",
              "      <td>7.450577</td>\n",
              "      <td>2.142579</td>\n",
              "      <td>0.437322</td>\n",
              "      <td>0.647671</td>\n",
              "      <td>2.007414</td>\n",
              "      <td>0.598098</td>\n",
              "      <td>0.597724</td>\n",
              "      <td>0.471919</td>\n",
              "      <td>...</td>\n",
              "      <td>0.181219</td>\n",
              "      <td>0.048001</td>\n",
              "      <td>0.019021</td>\n",
              "      <td>0.503145</td>\n",
              "      <td>0.410364</td>\n",
              "      <td>0.291598</td>\n",
              "      <td>0.208402</td>\n",
              "      <td>0.379662</td>\n",
              "      <td>0.484199</td>\n",
              "      <td>0.039838</td>\n",
              "    </tr>\n",
              "    <tr>\n",
              "      <th>std</th>\n",
              "      <td>1.880917</td>\n",
              "      <td>2.774836</td>\n",
              "      <td>7.052126</td>\n",
              "      <td>4.083442</td>\n",
              "      <td>1.714167</td>\n",
              "      <td>2.464536</td>\n",
              "      <td>3.466568</td>\n",
              "      <td>1.673624</td>\n",
              "      <td>0.490375</td>\n",
              "      <td>0.499529</td>\n",
              "      <td>...</td>\n",
              "      <td>0.385214</td>\n",
              "      <td>0.213775</td>\n",
              "      <td>0.136602</td>\n",
              "      <td>0.500009</td>\n",
              "      <td>0.491918</td>\n",
              "      <td>0.454515</td>\n",
              "      <td>0.406181</td>\n",
              "      <td>0.485321</td>\n",
              "      <td>0.499769</td>\n",
              "      <td>0.195586</td>\n",
              "    </tr>\n",
              "    <tr>\n",
              "      <th>min</th>\n",
              "      <td>0.000000</td>\n",
              "      <td>0.000000</td>\n",
              "      <td>0.000000</td>\n",
              "      <td>0.000000</td>\n",
              "      <td>0.000000</td>\n",
              "      <td>0.000000</td>\n",
              "      <td>0.000000</td>\n",
              "      <td>0.000000</td>\n",
              "      <td>0.000000</td>\n",
              "      <td>0.000000</td>\n",
              "      <td>...</td>\n",
              "      <td>0.000000</td>\n",
              "      <td>0.000000</td>\n",
              "      <td>0.000000</td>\n",
              "      <td>0.000000</td>\n",
              "      <td>0.000000</td>\n",
              "      <td>0.000000</td>\n",
              "      <td>0.000000</td>\n",
              "      <td>0.000000</td>\n",
              "      <td>0.000000</td>\n",
              "      <td>0.000000</td>\n",
              "    </tr>\n",
              "    <tr>\n",
              "      <th>25%</th>\n",
              "      <td>0.000000</td>\n",
              "      <td>0.000000</td>\n",
              "      <td>3.000000</td>\n",
              "      <td>0.000000</td>\n",
              "      <td>0.000000</td>\n",
              "      <td>0.000000</td>\n",
              "      <td>0.000000</td>\n",
              "      <td>0.000000</td>\n",
              "      <td>0.000000</td>\n",
              "      <td>0.000000</td>\n",
              "      <td>...</td>\n",
              "      <td>0.000000</td>\n",
              "      <td>0.000000</td>\n",
              "      <td>0.000000</td>\n",
              "      <td>0.000000</td>\n",
              "      <td>0.000000</td>\n",
              "      <td>0.000000</td>\n",
              "      <td>0.000000</td>\n",
              "      <td>0.000000</td>\n",
              "      <td>0.000000</td>\n",
              "      <td>0.000000</td>\n",
              "    </tr>\n",
              "    <tr>\n",
              "      <th>50%</th>\n",
              "      <td>0.000000</td>\n",
              "      <td>0.000000</td>\n",
              "      <td>6.000000</td>\n",
              "      <td>0.000000</td>\n",
              "      <td>0.000000</td>\n",
              "      <td>0.000000</td>\n",
              "      <td>1.000000</td>\n",
              "      <td>0.000000</td>\n",
              "      <td>1.000000</td>\n",
              "      <td>0.000000</td>\n",
              "      <td>...</td>\n",
              "      <td>0.000000</td>\n",
              "      <td>0.000000</td>\n",
              "      <td>0.000000</td>\n",
              "      <td>1.000000</td>\n",
              "      <td>0.000000</td>\n",
              "      <td>0.000000</td>\n",
              "      <td>0.000000</td>\n",
              "      <td>0.000000</td>\n",
              "      <td>0.000000</td>\n",
              "      <td>0.000000</td>\n",
              "    </tr>\n",
              "    <tr>\n",
              "      <th>75%</th>\n",
              "      <td>0.000000</td>\n",
              "      <td>0.000000</td>\n",
              "      <td>10.000000</td>\n",
              "      <td>3.000000</td>\n",
              "      <td>0.000000</td>\n",
              "      <td>0.000000</td>\n",
              "      <td>3.000000</td>\n",
              "      <td>1.000000</td>\n",
              "      <td>1.000000</td>\n",
              "      <td>1.000000</td>\n",
              "      <td>...</td>\n",
              "      <td>0.000000</td>\n",
              "      <td>0.000000</td>\n",
              "      <td>0.000000</td>\n",
              "      <td>1.000000</td>\n",
              "      <td>1.000000</td>\n",
              "      <td>1.000000</td>\n",
              "      <td>0.000000</td>\n",
              "      <td>1.000000</td>\n",
              "      <td>1.000000</td>\n",
              "      <td>0.000000</td>\n",
              "    </tr>\n",
              "    <tr>\n",
              "      <th>max</th>\n",
              "      <td>44.000000</td>\n",
              "      <td>51.000000</td>\n",
              "      <td>216.000000</td>\n",
              "      <td>52.000000</td>\n",
              "      <td>45.000000</td>\n",
              "      <td>40.000000</td>\n",
              "      <td>56.000000</td>\n",
              "      <td>35.000000</td>\n",
              "      <td>1.000000</td>\n",
              "      <td>2.000000</td>\n",
              "      <td>...</td>\n",
              "      <td>1.000000</td>\n",
              "      <td>1.000000</td>\n",
              "      <td>1.000000</td>\n",
              "      <td>1.000000</td>\n",
              "      <td>1.000000</td>\n",
              "      <td>1.000000</td>\n",
              "      <td>1.000000</td>\n",
              "      <td>1.000000</td>\n",
              "      <td>1.000000</td>\n",
              "      <td>1.000000</td>\n",
              "    </tr>\n",
              "  </tbody>\n",
              "</table>\n",
              "<p>8 rows × 28 columns</p>\n",
              "</div>\n",
              "      <button class=\"colab-df-convert\" onclick=\"convertToInteractive('df-96980a68-dcdf-40ef-bee3-b083fad2babd')\"\n",
              "              title=\"Convert this dataframe to an interactive table.\"\n",
              "              style=\"display:none;\">\n",
              "        \n",
              "  <svg xmlns=\"http://www.w3.org/2000/svg\" height=\"24px\"viewBox=\"0 0 24 24\"\n",
              "       width=\"24px\">\n",
              "    <path d=\"M0 0h24v24H0V0z\" fill=\"none\"/>\n",
              "    <path d=\"M18.56 5.44l.94 2.06.94-2.06 2.06-.94-2.06-.94-.94-2.06-.94 2.06-2.06.94zm-11 1L8.5 8.5l.94-2.06 2.06-.94-2.06-.94L8.5 2.5l-.94 2.06-2.06.94zm10 10l.94 2.06.94-2.06 2.06-.94-2.06-.94-.94-2.06-.94 2.06-2.06.94z\"/><path d=\"M17.41 7.96l-1.37-1.37c-.4-.4-.92-.59-1.43-.59-.52 0-1.04.2-1.43.59L10.3 9.45l-7.72 7.72c-.78.78-.78 2.05 0 2.83L4 21.41c.39.39.9.59 1.41.59.51 0 1.02-.2 1.41-.59l7.78-7.78 2.81-2.81c.8-.78.8-2.07 0-2.86zM5.41 20L4 18.59l7.72-7.72 1.47 1.35L5.41 20z\"/>\n",
              "  </svg>\n",
              "      </button>\n",
              "      \n",
              "  <style>\n",
              "    .colab-df-container {\n",
              "      display:flex;\n",
              "      flex-wrap:wrap;\n",
              "      gap: 12px;\n",
              "    }\n",
              "\n",
              "    .colab-df-convert {\n",
              "      background-color: #E8F0FE;\n",
              "      border: none;\n",
              "      border-radius: 50%;\n",
              "      cursor: pointer;\n",
              "      display: none;\n",
              "      fill: #1967D2;\n",
              "      height: 32px;\n",
              "      padding: 0 0 0 0;\n",
              "      width: 32px;\n",
              "    }\n",
              "\n",
              "    .colab-df-convert:hover {\n",
              "      background-color: #E2EBFA;\n",
              "      box-shadow: 0px 1px 2px rgba(60, 64, 67, 0.3), 0px 1px 3px 1px rgba(60, 64, 67, 0.15);\n",
              "      fill: #174EA6;\n",
              "    }\n",
              "\n",
              "    [theme=dark] .colab-df-convert {\n",
              "      background-color: #3B4455;\n",
              "      fill: #D2E3FC;\n",
              "    }\n",
              "\n",
              "    [theme=dark] .colab-df-convert:hover {\n",
              "      background-color: #434B5C;\n",
              "      box-shadow: 0px 1px 3px 1px rgba(0, 0, 0, 0.15);\n",
              "      filter: drop-shadow(0px 1px 2px rgba(0, 0, 0, 0.3));\n",
              "      fill: #FFFFFF;\n",
              "    }\n",
              "  </style>\n",
              "\n",
              "      <script>\n",
              "        const buttonEl =\n",
              "          document.querySelector('#df-96980a68-dcdf-40ef-bee3-b083fad2babd button.colab-df-convert');\n",
              "        buttonEl.style.display =\n",
              "          google.colab.kernel.accessAllowed ? 'block' : 'none';\n",
              "\n",
              "        async function convertToInteractive(key) {\n",
              "          const element = document.querySelector('#df-96980a68-dcdf-40ef-bee3-b083fad2babd');\n",
              "          const dataTable =\n",
              "            await google.colab.kernel.invokeFunction('convertToInteractive',\n",
              "                                                     [key], {});\n",
              "          if (!dataTable) return;\n",
              "\n",
              "          const docLinkHtml = 'Like what you see? Visit the ' +\n",
              "            '<a target=\"_blank\" href=https://colab.research.google.com/notebooks/data_table.ipynb>data table notebook</a>'\n",
              "            + ' to learn more about interactive tables.';\n",
              "          element.innerHTML = '';\n",
              "          dataTable['output_type'] = 'display_data';\n",
              "          await google.colab.output.renderOutput(dataTable, element);\n",
              "          const docLink = document.createElement('div');\n",
              "          docLink.innerHTML = docLinkHtml;\n",
              "          element.appendChild(docLink);\n",
              "        }\n",
              "      </script>\n",
              "    </div>\n",
              "  </div>\n",
              "  "
            ]
          },
          "metadata": {},
          "execution_count": 78
        }
      ],
      "source": [
        "dados.describe()"
      ]
    },
    {
      "cell_type": "markdown",
      "source": [
        "## Processamento dos dados de público da terapia"
      ],
      "metadata": {
        "id": "xNuu-Aa3rBke"
      }
    },
    {
      "cell_type": "markdown",
      "source": [
        "### Processamento para sintizar o quantitativo de cada público"
      ],
      "metadata": {
        "id": "HckfFapWrijW"
      }
    },
    {
      "cell_type": "code",
      "execution_count": 79,
      "metadata": {
        "id": "fCtj8zocOJil"
      },
      "outputs": [],
      "source": [
        "dados['criancas'] = dados[\"f_criancas\"] + dados[\"m_criancas\"]\n",
        "dados['adolescentes'] = dados[\"f_adolescentes\"] + dados[\"m_adolescentes\"]\n",
        "dados['adultos'] = dados[\"f_adultos\"] + dados[\"m_adultos\"]\n",
        "dados['idosos'] = dados[\"f_idosos\"] + dados[\"m_idosos\"]"
      ]
    },
    {
      "cell_type": "code",
      "execution_count": 80,
      "metadata": {
        "id": "xMFx93ij4pQb"
      },
      "outputs": [],
      "source": [
        "dados['total_pessoas'] = dados['adolescentes'] + dados['adultos'] + dados['idosos'] + dados['criancas']"
      ]
    },
    {
      "cell_type": "markdown",
      "source": [
        "### Processamento para sintetizar o público por genêro biológico"
      ],
      "metadata": {
        "id": "lxf5il-Crxvv"
      }
    },
    {
      "cell_type": "code",
      "execution_count": 81,
      "metadata": {
        "id": "_8w2RsxC6y11"
      },
      "outputs": [],
      "source": [
        "dados['feminino'] = dados['f_adolescentes'] + dados['f_adultos'] + dados['f_idosos'] + dados['f_criancas']\n",
        "dados['masculino'] = dados['m_adolescentes'] + dados['m_adultos'] + dados['m_idosos'] + dados['m_criancas']"
      ]
    },
    {
      "cell_type": "markdown",
      "source": [
        "### Processamento com total por faixa etária e por genêro biológico"
      ],
      "metadata": {
        "id": "1WLddE6O3-Wi"
      }
    },
    {
      "cell_type": "code",
      "execution_count": 82,
      "metadata": {
        "colab": {
          "base_uri": "https://localhost:8080/",
          "height": 0
        },
        "id": "LjZYpFzz3I71",
        "outputId": "f1da128d-3e98-482e-948f-197b7460d65a"
      },
      "outputs": [
        {
          "output_type": "execute_result",
          "data": {
            "text/plain": [
              "   idosos  adolescentes  adultos  criancas  total_pessoas  feminino  masculino\n",
              "0      25             0        0         0             25        15         10\n",
              "1       0             6        0        18             24        14         10\n",
              "2       0            20        0         8             28        20          8\n",
              "3       0            20        0         7             27        13         14\n",
              "4       0            23        0        12             35        15         20\n",
              "5       0            19        0         8             27        14         13\n",
              "6       0            22        0         6             28        16         12\n",
              "7       0            16        0         9             25        19          6\n",
              "8       0            10        0        13             23        12         11\n",
              "9       0            28        0        20             48        24         24"
            ],
            "text/html": [
              "\n",
              "  <div id=\"df-4a52f67f-f12b-4630-b1d2-7c17c8dc5aac\">\n",
              "    <div class=\"colab-df-container\">\n",
              "      <div>\n",
              "<style scoped>\n",
              "    .dataframe tbody tr th:only-of-type {\n",
              "        vertical-align: middle;\n",
              "    }\n",
              "\n",
              "    .dataframe tbody tr th {\n",
              "        vertical-align: top;\n",
              "    }\n",
              "\n",
              "    .dataframe thead th {\n",
              "        text-align: right;\n",
              "    }\n",
              "</style>\n",
              "<table border=\"1\" class=\"dataframe\">\n",
              "  <thead>\n",
              "    <tr style=\"text-align: right;\">\n",
              "      <th></th>\n",
              "      <th>idosos</th>\n",
              "      <th>adolescentes</th>\n",
              "      <th>adultos</th>\n",
              "      <th>criancas</th>\n",
              "      <th>total_pessoas</th>\n",
              "      <th>feminino</th>\n",
              "      <th>masculino</th>\n",
              "    </tr>\n",
              "  </thead>\n",
              "  <tbody>\n",
              "    <tr>\n",
              "      <th>0</th>\n",
              "      <td>25</td>\n",
              "      <td>0</td>\n",
              "      <td>0</td>\n",
              "      <td>0</td>\n",
              "      <td>25</td>\n",
              "      <td>15</td>\n",
              "      <td>10</td>\n",
              "    </tr>\n",
              "    <tr>\n",
              "      <th>1</th>\n",
              "      <td>0</td>\n",
              "      <td>6</td>\n",
              "      <td>0</td>\n",
              "      <td>18</td>\n",
              "      <td>24</td>\n",
              "      <td>14</td>\n",
              "      <td>10</td>\n",
              "    </tr>\n",
              "    <tr>\n",
              "      <th>2</th>\n",
              "      <td>0</td>\n",
              "      <td>20</td>\n",
              "      <td>0</td>\n",
              "      <td>8</td>\n",
              "      <td>28</td>\n",
              "      <td>20</td>\n",
              "      <td>8</td>\n",
              "    </tr>\n",
              "    <tr>\n",
              "      <th>3</th>\n",
              "      <td>0</td>\n",
              "      <td>20</td>\n",
              "      <td>0</td>\n",
              "      <td>7</td>\n",
              "      <td>27</td>\n",
              "      <td>13</td>\n",
              "      <td>14</td>\n",
              "    </tr>\n",
              "    <tr>\n",
              "      <th>4</th>\n",
              "      <td>0</td>\n",
              "      <td>23</td>\n",
              "      <td>0</td>\n",
              "      <td>12</td>\n",
              "      <td>35</td>\n",
              "      <td>15</td>\n",
              "      <td>20</td>\n",
              "    </tr>\n",
              "    <tr>\n",
              "      <th>5</th>\n",
              "      <td>0</td>\n",
              "      <td>19</td>\n",
              "      <td>0</td>\n",
              "      <td>8</td>\n",
              "      <td>27</td>\n",
              "      <td>14</td>\n",
              "      <td>13</td>\n",
              "    </tr>\n",
              "    <tr>\n",
              "      <th>6</th>\n",
              "      <td>0</td>\n",
              "      <td>22</td>\n",
              "      <td>0</td>\n",
              "      <td>6</td>\n",
              "      <td>28</td>\n",
              "      <td>16</td>\n",
              "      <td>12</td>\n",
              "    </tr>\n",
              "    <tr>\n",
              "      <th>7</th>\n",
              "      <td>0</td>\n",
              "      <td>16</td>\n",
              "      <td>0</td>\n",
              "      <td>9</td>\n",
              "      <td>25</td>\n",
              "      <td>19</td>\n",
              "      <td>6</td>\n",
              "    </tr>\n",
              "    <tr>\n",
              "      <th>8</th>\n",
              "      <td>0</td>\n",
              "      <td>10</td>\n",
              "      <td>0</td>\n",
              "      <td>13</td>\n",
              "      <td>23</td>\n",
              "      <td>12</td>\n",
              "      <td>11</td>\n",
              "    </tr>\n",
              "    <tr>\n",
              "      <th>9</th>\n",
              "      <td>0</td>\n",
              "      <td>28</td>\n",
              "      <td>0</td>\n",
              "      <td>20</td>\n",
              "      <td>48</td>\n",
              "      <td>24</td>\n",
              "      <td>24</td>\n",
              "    </tr>\n",
              "  </tbody>\n",
              "</table>\n",
              "</div>\n",
              "      <button class=\"colab-df-convert\" onclick=\"convertToInteractive('df-4a52f67f-f12b-4630-b1d2-7c17c8dc5aac')\"\n",
              "              title=\"Convert this dataframe to an interactive table.\"\n",
              "              style=\"display:none;\">\n",
              "        \n",
              "  <svg xmlns=\"http://www.w3.org/2000/svg\" height=\"24px\"viewBox=\"0 0 24 24\"\n",
              "       width=\"24px\">\n",
              "    <path d=\"M0 0h24v24H0V0z\" fill=\"none\"/>\n",
              "    <path d=\"M18.56 5.44l.94 2.06.94-2.06 2.06-.94-2.06-.94-.94-2.06-.94 2.06-2.06.94zm-11 1L8.5 8.5l.94-2.06 2.06-.94-2.06-.94L8.5 2.5l-.94 2.06-2.06.94zm10 10l.94 2.06.94-2.06 2.06-.94-2.06-.94-.94-2.06-.94 2.06-2.06.94z\"/><path d=\"M17.41 7.96l-1.37-1.37c-.4-.4-.92-.59-1.43-.59-.52 0-1.04.2-1.43.59L10.3 9.45l-7.72 7.72c-.78.78-.78 2.05 0 2.83L4 21.41c.39.39.9.59 1.41.59.51 0 1.02-.2 1.41-.59l7.78-7.78 2.81-2.81c.8-.78.8-2.07 0-2.86zM5.41 20L4 18.59l7.72-7.72 1.47 1.35L5.41 20z\"/>\n",
              "  </svg>\n",
              "      </button>\n",
              "      \n",
              "  <style>\n",
              "    .colab-df-container {\n",
              "      display:flex;\n",
              "      flex-wrap:wrap;\n",
              "      gap: 12px;\n",
              "    }\n",
              "\n",
              "    .colab-df-convert {\n",
              "      background-color: #E8F0FE;\n",
              "      border: none;\n",
              "      border-radius: 50%;\n",
              "      cursor: pointer;\n",
              "      display: none;\n",
              "      fill: #1967D2;\n",
              "      height: 32px;\n",
              "      padding: 0 0 0 0;\n",
              "      width: 32px;\n",
              "    }\n",
              "\n",
              "    .colab-df-convert:hover {\n",
              "      background-color: #E2EBFA;\n",
              "      box-shadow: 0px 1px 2px rgba(60, 64, 67, 0.3), 0px 1px 3px 1px rgba(60, 64, 67, 0.15);\n",
              "      fill: #174EA6;\n",
              "    }\n",
              "\n",
              "    [theme=dark] .colab-df-convert {\n",
              "      background-color: #3B4455;\n",
              "      fill: #D2E3FC;\n",
              "    }\n",
              "\n",
              "    [theme=dark] .colab-df-convert:hover {\n",
              "      background-color: #434B5C;\n",
              "      box-shadow: 0px 1px 3px 1px rgba(0, 0, 0, 0.15);\n",
              "      filter: drop-shadow(0px 1px 2px rgba(0, 0, 0, 0.3));\n",
              "      fill: #FFFFFF;\n",
              "    }\n",
              "  </style>\n",
              "\n",
              "      <script>\n",
              "        const buttonEl =\n",
              "          document.querySelector('#df-4a52f67f-f12b-4630-b1d2-7c17c8dc5aac button.colab-df-convert');\n",
              "        buttonEl.style.display =\n",
              "          google.colab.kernel.accessAllowed ? 'block' : 'none';\n",
              "\n",
              "        async function convertToInteractive(key) {\n",
              "          const element = document.querySelector('#df-4a52f67f-f12b-4630-b1d2-7c17c8dc5aac');\n",
              "          const dataTable =\n",
              "            await google.colab.kernel.invokeFunction('convertToInteractive',\n",
              "                                                     [key], {});\n",
              "          if (!dataTable) return;\n",
              "\n",
              "          const docLinkHtml = 'Like what you see? Visit the ' +\n",
              "            '<a target=\"_blank\" href=https://colab.research.google.com/notebooks/data_table.ipynb>data table notebook</a>'\n",
              "            + ' to learn more about interactive tables.';\n",
              "          element.innerHTML = '';\n",
              "          dataTable['output_type'] = 'display_data';\n",
              "          await google.colab.output.renderOutput(dataTable, element);\n",
              "          const docLink = document.createElement('div');\n",
              "          docLink.innerHTML = docLinkHtml;\n",
              "          element.appendChild(docLink);\n",
              "        }\n",
              "      </script>\n",
              "    </div>\n",
              "  </div>\n",
              "  "
            ]
          },
          "metadata": {},
          "execution_count": 82
        }
      ],
      "source": [
        "dados.loc[:,['idosos','adolescentes','adultos', 'criancas','total_pessoas','feminino','masculino']].head(10)"
      ]
    },
    {
      "cell_type": "code",
      "execution_count": 83,
      "metadata": {
        "colab": {
          "base_uri": "https://localhost:8080/"
        },
        "id": "YQ-H1ak38_PV",
        "outputId": "99b9a07c-a9db-49df-d7c3-3ad9f622345a"
      },
      "outputs": [
        {
          "output_type": "execute_result",
          "data": {
            "text/plain": [
              "(13354, 45)"
            ]
          },
          "metadata": {},
          "execution_count": 83
        }
      ],
      "source": [
        "dados.shape"
      ]
    },
    {
      "cell_type": "markdown",
      "source": [
        "### Histrogramas"
      ],
      "metadata": {
        "id": "58VEU0y3sKx-"
      }
    },
    {
      "cell_type": "code",
      "execution_count": 84,
      "metadata": {
        "colab": {
          "base_uri": "https://localhost:8080/",
          "height": 0
        },
        "id": "0WvLumtr92TC",
        "outputId": "fd117559-dd5e-4139-8796-a05c08d328b5"
      },
      "outputs": [
        {
          "output_type": "execute_result",
          "data": {
            "text/plain": [
              "<Axes: xlabel='adolescentes', ylabel='Count'>"
            ]
          },
          "metadata": {},
          "execution_count": 84
        },
        {
          "output_type": "display_data",
          "data": {
            "text/plain": [
              "<Figure size 640x480 with 1 Axes>"
            ],
            "image/png": "[encoded data removed]"
          },
          "metadata": {}
        }
      ],
      "source": [
        "sns.histplot(dados, x='adolescentes')"
      ]
    },
    {
      "cell_type": "code",
      "execution_count": 85,
      "metadata": {
        "colab": {
          "base_uri": "https://localhost:8080/",
          "height": 0
        },
        "id": "yr9y0iBD92Lz",
        "outputId": "13474728-a864-4438-a77d-2b657e893774"
      },
      "outputs": [
        {
          "output_type": "execute_result",
          "data": {
            "text/plain": [
              "<Axes: xlabel='adultos', ylabel='Count'>"
            ]
          },
          "metadata": {},
          "execution_count": 85
        },
        {
          "output_type": "display_data",
          "data": {
            "text/plain": [
              "<Figure size 640x480 with 1 Axes>"
            ],
            "image/png": "[encoded data removed]"
          },
          "metadata": {}
        }
      ],
      "source": [
        "sns.histplot(dados, x='adultos')"
      ]
    },
    {
      "cell_type": "code",
      "execution_count": 86,
      "metadata": {
        "colab": {
          "base_uri": "https://localhost:8080/",
          "height": 0
        },
        "id": "-2dxpmgl9j0R",
        "outputId": "62cf1d62-0722-4047-8e30-e46c48c3691a"
      },
      "outputs": [
        {
          "output_type": "execute_result",
          "data": {
            "text/plain": [
              "<Axes: xlabel='criancas', ylabel='Count'>"
            ]
          },
          "metadata": {},
          "execution_count": 86
        },
        {
          "output_type": "display_data",
          "data": {
            "text/plain": [
              "<Figure size 640x480 with 1 Axes>"
            ],
            "image/png": "[encoded data removed]"
          },
          "metadata": {}
        }
      ],
      "source": [
        "sns.histplot(dados, x='criancas')"
      ]
    },
    {
      "cell_type": "code",
      "execution_count": 87,
      "metadata": {
        "colab": {
          "base_uri": "https://localhost:8080/",
          "height": 0
        },
        "id": "Wjb4Gpo091vA",
        "outputId": "65c9451c-5df9-498e-c919-cd0b2ddc1916"
      },
      "outputs": [
        {
          "output_type": "execute_result",
          "data": {
            "text/plain": [
              "<Axes: xlabel='idosos', ylabel='Count'>"
            ]
          },
          "metadata": {},
          "execution_count": 87
        },
        {
          "output_type": "display_data",
          "data": {
            "text/plain": [
              "<Figure size 640x480 with 1 Axes>"
            ],
            "image/png": "[encoded data removed]"
          },
          "metadata": {}
        }
      ],
      "source": [
        "sns.histplot(dados, x='idosos')"
      ]
    },
    {
      "cell_type": "markdown",
      "source": [
        "### Gráficos de Barras"
      ],
      "metadata": {
        "id": "WHOYFpFYsV2W"
      }
    },
    {
      "cell_type": "code",
      "execution_count": 88,
      "metadata": {
        "id": "YuxU-Chz8dTd"
      },
      "outputs": [],
      "source": [
        "total_criancas = dados['criancas'].sum()\n",
        "total_adolescentes = dados['adolescentes'].sum()\n",
        "total_adultos = dados['adultos'].sum()\n",
        "total_idosos = dados['idosos'].sum()"
      ]
    },
    {
      "cell_type": "code",
      "execution_count": 89,
      "metadata": {
        "id": "VcJECQCvTwO0"
      },
      "outputs": [],
      "source": [
        "total_feminino = dados['feminino'].sum()\n",
        "total_masculino = dados['masculino'].sum()"
      ]
    },
    {
      "cell_type": "code",
      "execution_count": 90,
      "metadata": {
        "id": "g_nYqR5kTaLR"
      },
      "outputs": [],
      "source": [
        "categorias = ['feminino', 'masculino']\n",
        "totais = [total_feminino, total_masculino]"
      ]
    },
    {
      "cell_type": "code",
      "execution_count": 91,
      "metadata": {
        "colab": {
          "base_uri": "https://localhost:8080/",
          "height": 0
        },
        "id": "8-ZsxR8MTXlp",
        "outputId": "f4bb67b4-84f4-4ac7-8159-2cfe3cdc09b7"
      },
      "outputs": [
        {
          "output_type": "display_data",
          "data": {
            "text/plain": [
              "<Figure size 640x480 with 1 Axes>"
            ],
            "image/png": "[encoded data removed]"
          },
          "metadata": {}
        }
      ],
      "source": [
        "# Criar o gráfico de barras\n",
        "plt.bar(categorias, totais)\n",
        "\n",
        "# Adicionar os valores acima das barras\n",
        "for i, v in enumerate(totais):\n",
        "    plt.text(i, v+30, str(v), ha='center')\n",
        "\n",
        "# Configurar o gráfico\n",
        "# A época não a classição estava binária, e não incluía os grupos minoritários\n",
        "plt.xlabel('Sexo Biólogico')\n",
        "plt.ylabel('Total')\n",
        "plt.title('Total de pessoas por categoria')\n",
        "\n",
        "# Exibir o gráfico\n",
        "plt.show()\n"
      ]
    },
    {
      "cell_type": "code",
      "source": [
        "categorias = ['criancas', 'adolescentes','adultos','idosos']\n",
        "totais =  [total_criancas, total_adolescentes,total_adultos,total_idosos]"
      ],
      "metadata": {
        "id": "bmp7RJ6YMfi0"
      },
      "execution_count": 92,
      "outputs": []
    },
    {
      "cell_type": "code",
      "execution_count": 93,
      "metadata": {
        "colab": {
          "base_uri": "https://localhost:8080/",
          "height": 0
        },
        "id": "ScyJ3N-OTKpG",
        "outputId": "2af086f4-7893-4925-b2a1-a8a7de8e5f10"
      },
      "outputs": [
        {
          "output_type": "display_data",
          "data": {
            "text/plain": [
              "<Figure size 640x480 with 1 Axes>"
            ],
            "image/png": "[encoded data removed]"
          },
          "metadata": {}
        }
      ],
      "source": [
        "# Criar o gráfico de barras\n",
        "plt.bar(categorias, totais)\n",
        "\n",
        "# Adicionar os valores acima das barras\n",
        "for i, v in enumerate(totais):\n",
        "    plt.text(i, v+30, str(v), ha='center')\n",
        "\n",
        "# Configurar o gráfico\n",
        "plt.xlabel('Categoria')\n",
        "plt.ylabel('Total')\n",
        "plt.title('Total de pessoas por categoria')\n",
        "\n",
        "# Exibir o gráfico\n",
        "plt.show()\n"
      ]
    },
    {
      "cell_type": "markdown",
      "source": [
        "# Etapa 3: Transformação e Mineração dos Dados"
      ],
      "metadata": {
        "id": "Agm4zEzIsx0e"
      }
    },
    {
      "cell_type": "markdown",
      "source": [
        "# Etapa 4: Análise e criação do modelo"
      ],
      "metadata": {
        "id": "r1Dh64vjtANV"
      }
    }
  ],
  "metadata": {
    "colab": {
      "provenance": [],
      "collapsed_sections": [
        "m6oeblB6poBB",
        "0D59VbkBqZD-",
        "T_zI38ewqx7X",
        "xNuu-Aa3rBke",
        "HckfFapWrijW",
        "lxf5il-Crxvv",
        "1WLddE6O3-Wi",
        "58VEU0y3sKx-",
        "WHOYFpFYsV2W"
      ]
    },
    "kernelspec": {
      "display_name": "Python 3",
      "name": "python3"
    },
    "language_info": {
      "name": "python"
    }
  },
  "nbformat": 4,
  "nbformat_minor": 0
}